{
 "cells": [
  {
   "cell_type": "markdown",
   "id": "7b55d565",
   "metadata": {},
   "source": [
    "## DIY Project  for Data Mining and Analytics- DIY 1"
   ]
  },
  {
   "cell_type": "markdown",
   "id": "456e8579",
   "metadata": {},
   "source": [
    "# ------------------------------------------------------------"
   ]
  },
  {
   "cell_type": "markdown",
   "id": "cca9ea2b",
   "metadata": {},
   "source": [
    "\n",
    "### Vivek Kumar Shriwas\n",
    "### SY BSC COMPUTER SCEINCE \n",
    "### SRN NO. 202100756\n",
    "### SEMESTER III\n",
    "\n"
   ]
  },
  {
   "cell_type": "markdown",
   "id": "4054a871",
   "metadata": {},
   "source": [
    "# -------------------------------------------------------------"
   ]
  },
  {
   "cell_type": "markdown",
   "id": "7c5f43fe",
   "metadata": {},
   "source": [
    "## Importing Libraries"
   ]
  },
  {
   "cell_type": "code",
   "execution_count": 1,
   "id": "fbce5ab0",
   "metadata": {},
   "outputs": [],
   "source": [
    "import numpy as np\n",
    "import pandas as pd\n",
    "import seaborn as sns\n",
    "import missingno as msno\n",
    "import matplotlib.pyplot as plt\n",
    "%matplotlib inline \n",
    "from matplotlib import pyplot as plt\n",
    "from sklearn.cluster import KMeans\n",
    "from mpl_toolkits.mplot3d import Axes3D"
   ]
  },
  {
   "cell_type": "markdown",
   "id": "706d520c",
   "metadata": {},
   "source": [
    "## Q1) Clean, filter and Load data"
   ]
  },
  {
   "cell_type": "markdown",
   "id": "521546e3",
   "metadata": {},
   "source": [
    "## Importing the Data     \n",
    ">MOVIES CSV"
   ]
  },
  {
   "cell_type": "code",
   "execution_count": 2,
   "id": "8a69cdd2",
   "metadata": {},
   "outputs": [],
   "source": [
    "df = pd.read_csv('Movies.csv',encoding_errors='ignore')"
   ]
  },
  {
   "cell_type": "code",
   "execution_count": 3,
   "id": "da938414",
   "metadata": {},
   "outputs": [
    {
     "data": {
      "text/html": [
       "<div>\n",
       "<style scoped>\n",
       "    .dataframe tbody tr th:only-of-type {\n",
       "        vertical-align: middle;\n",
       "    }\n",
       "\n",
       "    .dataframe tbody tr th {\n",
       "        vertical-align: top;\n",
       "    }\n",
       "\n",
       "    .dataframe thead th {\n",
       "        text-align: right;\n",
       "    }\n",
       "</style>\n",
       "<table border=\"1\" class=\"dataframe\">\n",
       "  <thead>\n",
       "    <tr style=\"text-align: right;\">\n",
       "      <th></th>\n",
       "      <th>MovieID</th>\n",
       "      <th>Title</th>\n",
       "      <th>Category</th>\n",
       "    </tr>\n",
       "  </thead>\n",
       "  <tbody>\n",
       "    <tr>\n",
       "      <th>0</th>\n",
       "      <td>1</td>\n",
       "      <td>Toy Story (1995)</td>\n",
       "      <td>Adventure|Animation|Children|Comedy|Fantasy</td>\n",
       "    </tr>\n",
       "    <tr>\n",
       "      <th>1</th>\n",
       "      <td>2</td>\n",
       "      <td>Jumanji (1995)</td>\n",
       "      <td>Adventure|Children|Fantasy</td>\n",
       "    </tr>\n",
       "    <tr>\n",
       "      <th>2</th>\n",
       "      <td>3</td>\n",
       "      <td>Grumpier Old Men (1995)</td>\n",
       "      <td>Comedy|Romance</td>\n",
       "    </tr>\n",
       "    <tr>\n",
       "      <th>3</th>\n",
       "      <td>4</td>\n",
       "      <td>Waiting to Exhale (1995)</td>\n",
       "      <td>Comedy|Drama|Romance</td>\n",
       "    </tr>\n",
       "    <tr>\n",
       "      <th>4</th>\n",
       "      <td>5</td>\n",
       "      <td>Father of the Bride Part II (1995)</td>\n",
       "      <td>Comedy</td>\n",
       "    </tr>\n",
       "    <tr>\n",
       "      <th>...</th>\n",
       "      <td>...</td>\n",
       "      <td>...</td>\n",
       "      <td>...</td>\n",
       "    </tr>\n",
       "    <tr>\n",
       "      <th>2944</th>\n",
       "      <td>3948</td>\n",
       "      <td>Meet the Parents (2000)</td>\n",
       "      <td>Comedy</td>\n",
       "    </tr>\n",
       "    <tr>\n",
       "      <th>2945</th>\n",
       "      <td>3949</td>\n",
       "      <td>Requiem for a Dream (2000)</td>\n",
       "      <td>Drama</td>\n",
       "    </tr>\n",
       "    <tr>\n",
       "      <th>2946</th>\n",
       "      <td>3950</td>\n",
       "      <td>Tigerland (2000)</td>\n",
       "      <td>Drama</td>\n",
       "    </tr>\n",
       "    <tr>\n",
       "      <th>2947</th>\n",
       "      <td>3951</td>\n",
       "      <td>Two Family House (2000)</td>\n",
       "      <td>Drama</td>\n",
       "    </tr>\n",
       "    <tr>\n",
       "      <th>2948</th>\n",
       "      <td>3952</td>\n",
       "      <td>Contender, The (2000)</td>\n",
       "      <td>Drama|Thriller</td>\n",
       "    </tr>\n",
       "  </tbody>\n",
       "</table>\n",
       "<p>2949 rows × 3 columns</p>\n",
       "</div>"
      ],
      "text/plain": [
       "      MovieID                               Title  \\\n",
       "0           1                    Toy Story (1995)   \n",
       "1           2                      Jumanji (1995)   \n",
       "2           3             Grumpier Old Men (1995)   \n",
       "3           4            Waiting to Exhale (1995)   \n",
       "4           5  Father of the Bride Part II (1995)   \n",
       "...       ...                                 ...   \n",
       "2944     3948             Meet the Parents (2000)   \n",
       "2945     3949          Requiem for a Dream (2000)   \n",
       "2946     3950                    Tigerland (2000)   \n",
       "2947     3951             Two Family House (2000)   \n",
       "2948     3952               Contender, The (2000)   \n",
       "\n",
       "                                         Category  \n",
       "0     Adventure|Animation|Children|Comedy|Fantasy  \n",
       "1                      Adventure|Children|Fantasy  \n",
       "2                                  Comedy|Romance  \n",
       "3                            Comedy|Drama|Romance  \n",
       "4                                          Comedy  \n",
       "...                                           ...  \n",
       "2944                                       Comedy  \n",
       "2945                                        Drama  \n",
       "2946                                        Drama  \n",
       "2947                                        Drama  \n",
       "2948                               Drama|Thriller  \n",
       "\n",
       "[2949 rows x 3 columns]"
      ]
     },
     "execution_count": 3,
     "metadata": {},
     "output_type": "execute_result"
    }
   ],
   "source": [
    "df"
   ]
  },
  {
   "cell_type": "markdown",
   "id": "dfb00329",
   "metadata": {},
   "source": [
    "## Data Frame"
   ]
  },
  {
   "cell_type": "code",
   "execution_count": 4,
   "id": "94757d7d",
   "metadata": {},
   "outputs": [],
   "source": [
    "df = pd.read_csv('Movies.csv',encoding_errors='ignore')"
   ]
  },
  {
   "cell_type": "code",
   "execution_count": 5,
   "id": "51991ed4",
   "metadata": {},
   "outputs": [
    {
     "data": {
      "text/html": [
       "<div>\n",
       "<style scoped>\n",
       "    .dataframe tbody tr th:only-of-type {\n",
       "        vertical-align: middle;\n",
       "    }\n",
       "\n",
       "    .dataframe tbody tr th {\n",
       "        vertical-align: top;\n",
       "    }\n",
       "\n",
       "    .dataframe thead th {\n",
       "        text-align: right;\n",
       "    }\n",
       "</style>\n",
       "<table border=\"1\" class=\"dataframe\">\n",
       "  <thead>\n",
       "    <tr style=\"text-align: right;\">\n",
       "      <th></th>\n",
       "      <th>MovieID</th>\n",
       "      <th>Title</th>\n",
       "      <th>Category</th>\n",
       "    </tr>\n",
       "  </thead>\n",
       "  <tbody>\n",
       "    <tr>\n",
       "      <th>0</th>\n",
       "      <td>1</td>\n",
       "      <td>Toy Story (1995)</td>\n",
       "      <td>Adventure|Animation|Children|Comedy|Fantasy</td>\n",
       "    </tr>\n",
       "    <tr>\n",
       "      <th>1</th>\n",
       "      <td>2</td>\n",
       "      <td>Jumanji (1995)</td>\n",
       "      <td>Adventure|Children|Fantasy</td>\n",
       "    </tr>\n",
       "    <tr>\n",
       "      <th>2</th>\n",
       "      <td>3</td>\n",
       "      <td>Grumpier Old Men (1995)</td>\n",
       "      <td>Comedy|Romance</td>\n",
       "    </tr>\n",
       "    <tr>\n",
       "      <th>3</th>\n",
       "      <td>4</td>\n",
       "      <td>Waiting to Exhale (1995)</td>\n",
       "      <td>Comedy|Drama|Romance</td>\n",
       "    </tr>\n",
       "    <tr>\n",
       "      <th>4</th>\n",
       "      <td>5</td>\n",
       "      <td>Father of the Bride Part II (1995)</td>\n",
       "      <td>Comedy</td>\n",
       "    </tr>\n",
       "    <tr>\n",
       "      <th>...</th>\n",
       "      <td>...</td>\n",
       "      <td>...</td>\n",
       "      <td>...</td>\n",
       "    </tr>\n",
       "    <tr>\n",
       "      <th>2944</th>\n",
       "      <td>3948</td>\n",
       "      <td>Meet the Parents (2000)</td>\n",
       "      <td>Comedy</td>\n",
       "    </tr>\n",
       "    <tr>\n",
       "      <th>2945</th>\n",
       "      <td>3949</td>\n",
       "      <td>Requiem for a Dream (2000)</td>\n",
       "      <td>Drama</td>\n",
       "    </tr>\n",
       "    <tr>\n",
       "      <th>2946</th>\n",
       "      <td>3950</td>\n",
       "      <td>Tigerland (2000)</td>\n",
       "      <td>Drama</td>\n",
       "    </tr>\n",
       "    <tr>\n",
       "      <th>2947</th>\n",
       "      <td>3951</td>\n",
       "      <td>Two Family House (2000)</td>\n",
       "      <td>Drama</td>\n",
       "    </tr>\n",
       "    <tr>\n",
       "      <th>2948</th>\n",
       "      <td>3952</td>\n",
       "      <td>Contender, The (2000)</td>\n",
       "      <td>Drama|Thriller</td>\n",
       "    </tr>\n",
       "  </tbody>\n",
       "</table>\n",
       "<p>2949 rows × 3 columns</p>\n",
       "</div>"
      ],
      "text/plain": [
       "      MovieID                               Title  \\\n",
       "0           1                    Toy Story (1995)   \n",
       "1           2                      Jumanji (1995)   \n",
       "2           3             Grumpier Old Men (1995)   \n",
       "3           4            Waiting to Exhale (1995)   \n",
       "4           5  Father of the Bride Part II (1995)   \n",
       "...       ...                                 ...   \n",
       "2944     3948             Meet the Parents (2000)   \n",
       "2945     3949          Requiem for a Dream (2000)   \n",
       "2946     3950                    Tigerland (2000)   \n",
       "2947     3951             Two Family House (2000)   \n",
       "2948     3952               Contender, The (2000)   \n",
       "\n",
       "                                         Category  \n",
       "0     Adventure|Animation|Children|Comedy|Fantasy  \n",
       "1                      Adventure|Children|Fantasy  \n",
       "2                                  Comedy|Romance  \n",
       "3                            Comedy|Drama|Romance  \n",
       "4                                          Comedy  \n",
       "...                                           ...  \n",
       "2944                                       Comedy  \n",
       "2945                                        Drama  \n",
       "2946                                        Drama  \n",
       "2947                                        Drama  \n",
       "2948                               Drama|Thriller  \n",
       "\n",
       "[2949 rows x 3 columns]"
      ]
     },
     "execution_count": 5,
     "metadata": {},
     "output_type": "execute_result"
    }
   ],
   "source": [
    "df"
   ]
  },
  {
   "cell_type": "markdown",
   "id": "b33d66b3",
   "metadata": {},
   "source": [
    "## Exploding Data set"
   ]
  },
  {
   "cell_type": "markdown",
   "id": "7f4b657d",
   "metadata": {},
   "source": [
    "> The Category Column of the Movies.csv dataset having values in Pipe seperated ('|') values in series.we need to first remove this pipe seperation and align them in proper list order."
   ]
  },
  {
   "cell_type": "code",
   "execution_count": 6,
   "id": "99c0db21",
   "metadata": {},
   "outputs": [
    {
     "data": {
      "text/html": [
       "<div>\n",
       "<style scoped>\n",
       "    .dataframe tbody tr th:only-of-type {\n",
       "        vertical-align: middle;\n",
       "    }\n",
       "\n",
       "    .dataframe tbody tr th {\n",
       "        vertical-align: top;\n",
       "    }\n",
       "\n",
       "    .dataframe thead th {\n",
       "        text-align: right;\n",
       "    }\n",
       "</style>\n",
       "<table border=\"1\" class=\"dataframe\">\n",
       "  <thead>\n",
       "    <tr style=\"text-align: right;\">\n",
       "      <th></th>\n",
       "      <th>MovieID</th>\n",
       "      <th>Title</th>\n",
       "      <th>Category</th>\n",
       "    </tr>\n",
       "  </thead>\n",
       "  <tbody>\n",
       "    <tr>\n",
       "      <th>0</th>\n",
       "      <td>1</td>\n",
       "      <td>Toy Story (1995)</td>\n",
       "      <td>Adventure,Animation,Children,Comedy,Fantasy</td>\n",
       "    </tr>\n",
       "    <tr>\n",
       "      <th>1</th>\n",
       "      <td>2</td>\n",
       "      <td>Jumanji (1995)</td>\n",
       "      <td>Adventure,Children,Fantasy</td>\n",
       "    </tr>\n",
       "    <tr>\n",
       "      <th>2</th>\n",
       "      <td>3</td>\n",
       "      <td>Grumpier Old Men (1995)</td>\n",
       "      <td>Comedy,Romance</td>\n",
       "    </tr>\n",
       "    <tr>\n",
       "      <th>3</th>\n",
       "      <td>4</td>\n",
       "      <td>Waiting to Exhale (1995)</td>\n",
       "      <td>Comedy,Drama,Romance</td>\n",
       "    </tr>\n",
       "    <tr>\n",
       "      <th>4</th>\n",
       "      <td>5</td>\n",
       "      <td>Father of the Bride Part II (1995)</td>\n",
       "      <td>Comedy</td>\n",
       "    </tr>\n",
       "    <tr>\n",
       "      <th>...</th>\n",
       "      <td>...</td>\n",
       "      <td>...</td>\n",
       "      <td>...</td>\n",
       "    </tr>\n",
       "    <tr>\n",
       "      <th>2944</th>\n",
       "      <td>3948</td>\n",
       "      <td>Meet the Parents (2000)</td>\n",
       "      <td>Comedy</td>\n",
       "    </tr>\n",
       "    <tr>\n",
       "      <th>2945</th>\n",
       "      <td>3949</td>\n",
       "      <td>Requiem for a Dream (2000)</td>\n",
       "      <td>Drama</td>\n",
       "    </tr>\n",
       "    <tr>\n",
       "      <th>2946</th>\n",
       "      <td>3950</td>\n",
       "      <td>Tigerland (2000)</td>\n",
       "      <td>Drama</td>\n",
       "    </tr>\n",
       "    <tr>\n",
       "      <th>2947</th>\n",
       "      <td>3951</td>\n",
       "      <td>Two Family House (2000)</td>\n",
       "      <td>Drama</td>\n",
       "    </tr>\n",
       "    <tr>\n",
       "      <th>2948</th>\n",
       "      <td>3952</td>\n",
       "      <td>Contender, The (2000)</td>\n",
       "      <td>Drama,Thriller</td>\n",
       "    </tr>\n",
       "  </tbody>\n",
       "</table>\n",
       "<p>2949 rows × 3 columns</p>\n",
       "</div>"
      ],
      "text/plain": [
       "      MovieID                               Title  \\\n",
       "0           1                    Toy Story (1995)   \n",
       "1           2                      Jumanji (1995)   \n",
       "2           3             Grumpier Old Men (1995)   \n",
       "3           4            Waiting to Exhale (1995)   \n",
       "4           5  Father of the Bride Part II (1995)   \n",
       "...       ...                                 ...   \n",
       "2944     3948             Meet the Parents (2000)   \n",
       "2945     3949          Requiem for a Dream (2000)   \n",
       "2946     3950                    Tigerland (2000)   \n",
       "2947     3951             Two Family House (2000)   \n",
       "2948     3952               Contender, The (2000)   \n",
       "\n",
       "                                         Category  \n",
       "0     Adventure,Animation,Children,Comedy,Fantasy  \n",
       "1                      Adventure,Children,Fantasy  \n",
       "2                                  Comedy,Romance  \n",
       "3                            Comedy,Drama,Romance  \n",
       "4                                          Comedy  \n",
       "...                                           ...  \n",
       "2944                                       Comedy  \n",
       "2945                                        Drama  \n",
       "2946                                        Drama  \n",
       "2947                                        Drama  \n",
       "2948                               Drama,Thriller  \n",
       "\n",
       "[2949 rows x 3 columns]"
      ]
     },
     "execution_count": 6,
     "metadata": {},
     "output_type": "execute_result"
    }
   ],
   "source": [
    "df['Category']=df['Category'].apply(lambda x: str(x.replace('|', ',')))\n",
    "df"
   ]
  },
  {
   "cell_type": "code",
   "execution_count": 7,
   "id": "2adff5d2",
   "metadata": {},
   "outputs": [
    {
     "data": {
      "text/html": [
       "<div>\n",
       "<style scoped>\n",
       "    .dataframe tbody tr th:only-of-type {\n",
       "        vertical-align: middle;\n",
       "    }\n",
       "\n",
       "    .dataframe tbody tr th {\n",
       "        vertical-align: top;\n",
       "    }\n",
       "\n",
       "    .dataframe thead th {\n",
       "        text-align: right;\n",
       "    }\n",
       "</style>\n",
       "<table border=\"1\" class=\"dataframe\">\n",
       "  <thead>\n",
       "    <tr style=\"text-align: right;\">\n",
       "      <th></th>\n",
       "      <th>MovieID</th>\n",
       "      <th>Title</th>\n",
       "      <th>Category</th>\n",
       "    </tr>\n",
       "  </thead>\n",
       "  <tbody>\n",
       "    <tr>\n",
       "      <th>0</th>\n",
       "      <td>1</td>\n",
       "      <td>Toy Story (1995)</td>\n",
       "      <td>[Adventure, Animation, Children, Comedy, Fantasy]</td>\n",
       "    </tr>\n",
       "    <tr>\n",
       "      <th>1</th>\n",
       "      <td>2</td>\n",
       "      <td>Jumanji (1995)</td>\n",
       "      <td>[Adventure, Children, Fantasy]</td>\n",
       "    </tr>\n",
       "    <tr>\n",
       "      <th>2</th>\n",
       "      <td>3</td>\n",
       "      <td>Grumpier Old Men (1995)</td>\n",
       "      <td>[Comedy, Romance]</td>\n",
       "    </tr>\n",
       "    <tr>\n",
       "      <th>3</th>\n",
       "      <td>4</td>\n",
       "      <td>Waiting to Exhale (1995)</td>\n",
       "      <td>[Comedy, Drama, Romance]</td>\n",
       "    </tr>\n",
       "    <tr>\n",
       "      <th>4</th>\n",
       "      <td>5</td>\n",
       "      <td>Father of the Bride Part II (1995)</td>\n",
       "      <td>[Comedy]</td>\n",
       "    </tr>\n",
       "    <tr>\n",
       "      <th>...</th>\n",
       "      <td>...</td>\n",
       "      <td>...</td>\n",
       "      <td>...</td>\n",
       "    </tr>\n",
       "    <tr>\n",
       "      <th>2944</th>\n",
       "      <td>3948</td>\n",
       "      <td>Meet the Parents (2000)</td>\n",
       "      <td>[Comedy]</td>\n",
       "    </tr>\n",
       "    <tr>\n",
       "      <th>2945</th>\n",
       "      <td>3949</td>\n",
       "      <td>Requiem for a Dream (2000)</td>\n",
       "      <td>[Drama]</td>\n",
       "    </tr>\n",
       "    <tr>\n",
       "      <th>2946</th>\n",
       "      <td>3950</td>\n",
       "      <td>Tigerland (2000)</td>\n",
       "      <td>[Drama]</td>\n",
       "    </tr>\n",
       "    <tr>\n",
       "      <th>2947</th>\n",
       "      <td>3951</td>\n",
       "      <td>Two Family House (2000)</td>\n",
       "      <td>[Drama]</td>\n",
       "    </tr>\n",
       "    <tr>\n",
       "      <th>2948</th>\n",
       "      <td>3952</td>\n",
       "      <td>Contender, The (2000)</td>\n",
       "      <td>[Drama, Thriller]</td>\n",
       "    </tr>\n",
       "  </tbody>\n",
       "</table>\n",
       "<p>2949 rows × 3 columns</p>\n",
       "</div>"
      ],
      "text/plain": [
       "      MovieID                               Title  \\\n",
       "0           1                    Toy Story (1995)   \n",
       "1           2                      Jumanji (1995)   \n",
       "2           3             Grumpier Old Men (1995)   \n",
       "3           4            Waiting to Exhale (1995)   \n",
       "4           5  Father of the Bride Part II (1995)   \n",
       "...       ...                                 ...   \n",
       "2944     3948             Meet the Parents (2000)   \n",
       "2945     3949          Requiem for a Dream (2000)   \n",
       "2946     3950                    Tigerland (2000)   \n",
       "2947     3951             Two Family House (2000)   \n",
       "2948     3952               Contender, The (2000)   \n",
       "\n",
       "                                               Category  \n",
       "0     [Adventure, Animation, Children, Comedy, Fantasy]  \n",
       "1                        [Adventure, Children, Fantasy]  \n",
       "2                                     [Comedy, Romance]  \n",
       "3                              [Comedy, Drama, Romance]  \n",
       "4                                              [Comedy]  \n",
       "...                                                 ...  \n",
       "2944                                           [Comedy]  \n",
       "2945                                            [Drama]  \n",
       "2946                                            [Drama]  \n",
       "2947                                            [Drama]  \n",
       "2948                                  [Drama, Thriller]  \n",
       "\n",
       "[2949 rows x 3 columns]"
      ]
     },
     "execution_count": 7,
     "metadata": {},
     "output_type": "execute_result"
    }
   ],
   "source": [
    "df['Category']=df.Category.str.split(',')\n",
    "df"
   ]
  },
  {
   "cell_type": "code",
   "execution_count": 8,
   "id": "0d242c35",
   "metadata": {},
   "outputs": [
    {
     "data": {
      "text/html": [
       "<div>\n",
       "<style scoped>\n",
       "    .dataframe tbody tr th:only-of-type {\n",
       "        vertical-align: middle;\n",
       "    }\n",
       "\n",
       "    .dataframe tbody tr th {\n",
       "        vertical-align: top;\n",
       "    }\n",
       "\n",
       "    .dataframe thead th {\n",
       "        text-align: right;\n",
       "    }\n",
       "</style>\n",
       "<table border=\"1\" class=\"dataframe\">\n",
       "  <thead>\n",
       "    <tr style=\"text-align: right;\">\n",
       "      <th></th>\n",
       "      <th>MovieID</th>\n",
       "      <th>Title</th>\n",
       "      <th>Category</th>\n",
       "    </tr>\n",
       "  </thead>\n",
       "  <tbody>\n",
       "    <tr>\n",
       "      <th>0</th>\n",
       "      <td>1</td>\n",
       "      <td>Toy Story (1995)</td>\n",
       "      <td>Adventure</td>\n",
       "    </tr>\n",
       "    <tr>\n",
       "      <th>0</th>\n",
       "      <td>1</td>\n",
       "      <td>Toy Story (1995)</td>\n",
       "      <td>Animation</td>\n",
       "    </tr>\n",
       "    <tr>\n",
       "      <th>0</th>\n",
       "      <td>1</td>\n",
       "      <td>Toy Story (1995)</td>\n",
       "      <td>Children</td>\n",
       "    </tr>\n",
       "    <tr>\n",
       "      <th>0</th>\n",
       "      <td>1</td>\n",
       "      <td>Toy Story (1995)</td>\n",
       "      <td>Comedy</td>\n",
       "    </tr>\n",
       "    <tr>\n",
       "      <th>0</th>\n",
       "      <td>1</td>\n",
       "      <td>Toy Story (1995)</td>\n",
       "      <td>Fantasy</td>\n",
       "    </tr>\n",
       "    <tr>\n",
       "      <th>...</th>\n",
       "      <td>...</td>\n",
       "      <td>...</td>\n",
       "      <td>...</td>\n",
       "    </tr>\n",
       "    <tr>\n",
       "      <th>2945</th>\n",
       "      <td>3949</td>\n",
       "      <td>Requiem for a Dream (2000)</td>\n",
       "      <td>Drama</td>\n",
       "    </tr>\n",
       "    <tr>\n",
       "      <th>2946</th>\n",
       "      <td>3950</td>\n",
       "      <td>Tigerland (2000)</td>\n",
       "      <td>Drama</td>\n",
       "    </tr>\n",
       "    <tr>\n",
       "      <th>2947</th>\n",
       "      <td>3951</td>\n",
       "      <td>Two Family House (2000)</td>\n",
       "      <td>Drama</td>\n",
       "    </tr>\n",
       "    <tr>\n",
       "      <th>2948</th>\n",
       "      <td>3952</td>\n",
       "      <td>Contender, The (2000)</td>\n",
       "      <td>Drama</td>\n",
       "    </tr>\n",
       "    <tr>\n",
       "      <th>2948</th>\n",
       "      <td>3952</td>\n",
       "      <td>Contender, The (2000)</td>\n",
       "      <td>Thriller</td>\n",
       "    </tr>\n",
       "  </tbody>\n",
       "</table>\n",
       "<p>6385 rows × 3 columns</p>\n",
       "</div>"
      ],
      "text/plain": [
       "      MovieID                       Title   Category\n",
       "0           1            Toy Story (1995)  Adventure\n",
       "0           1            Toy Story (1995)  Animation\n",
       "0           1            Toy Story (1995)   Children\n",
       "0           1            Toy Story (1995)     Comedy\n",
       "0           1            Toy Story (1995)    Fantasy\n",
       "...       ...                         ...        ...\n",
       "2945     3949  Requiem for a Dream (2000)      Drama\n",
       "2946     3950            Tigerland (2000)      Drama\n",
       "2947     3951     Two Family House (2000)      Drama\n",
       "2948     3952       Contender, The (2000)      Drama\n",
       "2948     3952       Contender, The (2000)   Thriller\n",
       "\n",
       "[6385 rows x 3 columns]"
      ]
     },
     "execution_count": 8,
     "metadata": {},
     "output_type": "execute_result"
    }
   ],
   "source": [
    "df=df.explode('Category')\n",
    "df"
   ]
  },
  {
   "cell_type": "markdown",
   "id": "669f48bc",
   "metadata": {},
   "source": [
    "## Describing DataFrame"
   ]
  },
  {
   "cell_type": "code",
   "execution_count": 9,
   "id": "b77a6a4a",
   "metadata": {},
   "outputs": [
    {
     "data": {
      "text/html": [
       "<div>\n",
       "<style scoped>\n",
       "    .dataframe tbody tr th:only-of-type {\n",
       "        vertical-align: middle;\n",
       "    }\n",
       "\n",
       "    .dataframe tbody tr th {\n",
       "        vertical-align: top;\n",
       "    }\n",
       "\n",
       "    .dataframe thead th {\n",
       "        text-align: right;\n",
       "    }\n",
       "</style>\n",
       "<table border=\"1\" class=\"dataframe\">\n",
       "  <thead>\n",
       "    <tr style=\"text-align: right;\">\n",
       "      <th></th>\n",
       "      <th>MovieID</th>\n",
       "    </tr>\n",
       "  </thead>\n",
       "  <tbody>\n",
       "    <tr>\n",
       "      <th>count</th>\n",
       "      <td>6385.000000</td>\n",
       "    </tr>\n",
       "    <tr>\n",
       "      <th>mean</th>\n",
       "      <td>1923.312451</td>\n",
       "    </tr>\n",
       "    <tr>\n",
       "      <th>std</th>\n",
       "      <td>1138.398938</td>\n",
       "    </tr>\n",
       "    <tr>\n",
       "      <th>min</th>\n",
       "      <td>1.000000</td>\n",
       "    </tr>\n",
       "    <tr>\n",
       "      <th>25%</th>\n",
       "      <td>947.000000</td>\n",
       "    </tr>\n",
       "    <tr>\n",
       "      <th>50%</th>\n",
       "      <td>1968.000000</td>\n",
       "    </tr>\n",
       "    <tr>\n",
       "      <th>75%</th>\n",
       "      <td>2885.000000</td>\n",
       "    </tr>\n",
       "    <tr>\n",
       "      <th>max</th>\n",
       "      <td>3952.000000</td>\n",
       "    </tr>\n",
       "  </tbody>\n",
       "</table>\n",
       "</div>"
      ],
      "text/plain": [
       "           MovieID\n",
       "count  6385.000000\n",
       "mean   1923.312451\n",
       "std    1138.398938\n",
       "min       1.000000\n",
       "25%     947.000000\n",
       "50%    1968.000000\n",
       "75%    2885.000000\n",
       "max    3952.000000"
      ]
     },
     "execution_count": 9,
     "metadata": {},
     "output_type": "execute_result"
    }
   ],
   "source": [
    "df.describe()"
   ]
  },
  {
   "cell_type": "markdown",
   "id": "3a11ae5b",
   "metadata": {},
   "source": [
    "## Shape of the Dataset"
   ]
  },
  {
   "cell_type": "code",
   "execution_count": 10,
   "id": "6ac79adc",
   "metadata": {},
   "outputs": [
    {
     "data": {
      "text/plain": [
       "(6385, 3)"
      ]
     },
     "execution_count": 10,
     "metadata": {},
     "output_type": "execute_result"
    }
   ],
   "source": [
    "df.shape"
   ]
  },
  {
   "cell_type": "code",
   "execution_count": 11,
   "id": "4914ed4e",
   "metadata": {},
   "outputs": [
    {
     "name": "stdout",
     "output_type": "stream",
     "text": [
      "<class 'pandas.core.frame.DataFrame'>\n",
      "Int64Index: 6385 entries, 0 to 2948\n",
      "Data columns (total 3 columns):\n",
      " #   Column    Non-Null Count  Dtype \n",
      "---  ------    --------------  ----- \n",
      " 0   MovieID   6385 non-null   int64 \n",
      " 1   Title     6385 non-null   object\n",
      " 2   Category  6385 non-null   object\n",
      "dtypes: int64(1), object(2)\n",
      "memory usage: 199.5+ KB\n"
     ]
    }
   ],
   "source": [
    "df.info()"
   ]
  },
  {
   "cell_type": "markdown",
   "id": "eef0b909",
   "metadata": {},
   "source": [
    "## checking duplicate "
   ]
  },
  {
   "cell_type": "code",
   "execution_count": 12,
   "id": "bb5c7378",
   "metadata": {},
   "outputs": [
    {
     "data": {
      "text/plain": [
       "0       False\n",
       "0       False\n",
       "0       False\n",
       "0       False\n",
       "0       False\n",
       "        ...  \n",
       "2945    False\n",
       "2946    False\n",
       "2947    False\n",
       "2948    False\n",
       "2948    False\n",
       "Length: 6385, dtype: bool"
      ]
     },
     "execution_count": 12,
     "metadata": {},
     "output_type": "execute_result"
    }
   ],
   "source": [
    "df.duplicated()"
   ]
  },
  {
   "cell_type": "markdown",
   "id": "bf5e12bc",
   "metadata": {},
   "source": [
    "## checking Null values"
   ]
  },
  {
   "cell_type": "code",
   "execution_count": 13,
   "id": "6d89e6bc",
   "metadata": {},
   "outputs": [
    {
     "data": {
      "text/html": [
       "<div>\n",
       "<style scoped>\n",
       "    .dataframe tbody tr th:only-of-type {\n",
       "        vertical-align: middle;\n",
       "    }\n",
       "\n",
       "    .dataframe tbody tr th {\n",
       "        vertical-align: top;\n",
       "    }\n",
       "\n",
       "    .dataframe thead th {\n",
       "        text-align: right;\n",
       "    }\n",
       "</style>\n",
       "<table border=\"1\" class=\"dataframe\">\n",
       "  <thead>\n",
       "    <tr style=\"text-align: right;\">\n",
       "      <th></th>\n",
       "      <th>MovieID</th>\n",
       "      <th>Title</th>\n",
       "      <th>Category</th>\n",
       "    </tr>\n",
       "  </thead>\n",
       "  <tbody>\n",
       "    <tr>\n",
       "      <th>0</th>\n",
       "      <td>False</td>\n",
       "      <td>False</td>\n",
       "      <td>False</td>\n",
       "    </tr>\n",
       "    <tr>\n",
       "      <th>0</th>\n",
       "      <td>False</td>\n",
       "      <td>False</td>\n",
       "      <td>False</td>\n",
       "    </tr>\n",
       "    <tr>\n",
       "      <th>0</th>\n",
       "      <td>False</td>\n",
       "      <td>False</td>\n",
       "      <td>False</td>\n",
       "    </tr>\n",
       "    <tr>\n",
       "      <th>0</th>\n",
       "      <td>False</td>\n",
       "      <td>False</td>\n",
       "      <td>False</td>\n",
       "    </tr>\n",
       "    <tr>\n",
       "      <th>0</th>\n",
       "      <td>False</td>\n",
       "      <td>False</td>\n",
       "      <td>False</td>\n",
       "    </tr>\n",
       "    <tr>\n",
       "      <th>...</th>\n",
       "      <td>...</td>\n",
       "      <td>...</td>\n",
       "      <td>...</td>\n",
       "    </tr>\n",
       "    <tr>\n",
       "      <th>2945</th>\n",
       "      <td>False</td>\n",
       "      <td>False</td>\n",
       "      <td>False</td>\n",
       "    </tr>\n",
       "    <tr>\n",
       "      <th>2946</th>\n",
       "      <td>False</td>\n",
       "      <td>False</td>\n",
       "      <td>False</td>\n",
       "    </tr>\n",
       "    <tr>\n",
       "      <th>2947</th>\n",
       "      <td>False</td>\n",
       "      <td>False</td>\n",
       "      <td>False</td>\n",
       "    </tr>\n",
       "    <tr>\n",
       "      <th>2948</th>\n",
       "      <td>False</td>\n",
       "      <td>False</td>\n",
       "      <td>False</td>\n",
       "    </tr>\n",
       "    <tr>\n",
       "      <th>2948</th>\n",
       "      <td>False</td>\n",
       "      <td>False</td>\n",
       "      <td>False</td>\n",
       "    </tr>\n",
       "  </tbody>\n",
       "</table>\n",
       "<p>6385 rows × 3 columns</p>\n",
       "</div>"
      ],
      "text/plain": [
       "      MovieID  Title  Category\n",
       "0       False  False     False\n",
       "0       False  False     False\n",
       "0       False  False     False\n",
       "0       False  False     False\n",
       "0       False  False     False\n",
       "...       ...    ...       ...\n",
       "2945    False  False     False\n",
       "2946    False  False     False\n",
       "2947    False  False     False\n",
       "2948    False  False     False\n",
       "2948    False  False     False\n",
       "\n",
       "[6385 rows x 3 columns]"
      ]
     },
     "execution_count": 13,
     "metadata": {},
     "output_type": "execute_result"
    }
   ],
   "source": [
    "df.isnull()"
   ]
  },
  {
   "cell_type": "code",
   "execution_count": 14,
   "id": "1e139381",
   "metadata": {},
   "outputs": [
    {
     "data": {
      "text/plain": [
       "MovieID     0\n",
       "Title       0\n",
       "Category    0\n",
       "dtype: int64"
      ]
     },
     "execution_count": 14,
     "metadata": {},
     "output_type": "execute_result"
    }
   ],
   "source": [
    "df.isnull().sum()"
   ]
  },
  {
   "cell_type": "code",
   "execution_count": 15,
   "id": "fcc36de2",
   "metadata": {},
   "outputs": [
    {
     "data": {
      "text/plain": [
       "<AxesSubplot:>"
      ]
     },
     "execution_count": 15,
     "metadata": {},
     "output_type": "execute_result"
    },
    {
     "data": {
      "image/png": "[encoded data removed]",
      "text/plain": [
       "<Figure size 432x288 with 2 Axes>"
      ]
     },
     "metadata": {
      "needs_background": "light"
     },
     "output_type": "display_data"
    }
   ],
   "source": [
    "sns.heatmap(df.isnull(), yticklabels=False)"
   ]
  },
  {
   "cell_type": "markdown",
   "id": "03072594",
   "metadata": {},
   "source": [
    "> Gives a bar chart of the missing values"
   ]
  },
  {
   "cell_type": "code",
   "execution_count": 16,
   "id": "f6aa252c",
   "metadata": {},
   "outputs": [
    {
     "data": {
      "text/plain": [
       "<AxesSubplot:>"
      ]
     },
     "execution_count": 16,
     "metadata": {},
     "output_type": "execute_result"
    },
    {
     "data": {
      "image/png": "[encoded data removed]",
      "text/plain": [
       "<Figure size 1800x720 with 3 Axes>"
      ]
     },
     "metadata": {
      "needs_background": "light"
     },
     "output_type": "display_data"
    }
   ],
   "source": [
    "\n",
    "msno.bar(df)"
   ]
  },
  {
   "cell_type": "markdown",
   "id": "5d714b53",
   "metadata": {},
   "source": [
    "## Filtering Data"
   ]
  },
  {
   "cell_type": "code",
   "execution_count": 17,
   "id": "d2df4b0f",
   "metadata": {},
   "outputs": [
    {
     "data": {
      "text/html": [
       "<div>\n",
       "<style scoped>\n",
       "    .dataframe tbody tr th:only-of-type {\n",
       "        vertical-align: middle;\n",
       "    }\n",
       "\n",
       "    .dataframe tbody tr th {\n",
       "        vertical-align: top;\n",
       "    }\n",
       "\n",
       "    .dataframe thead th {\n",
       "        text-align: right;\n",
       "    }\n",
       "</style>\n",
       "<table border=\"1\" class=\"dataframe\">\n",
       "  <thead>\n",
       "    <tr style=\"text-align: right;\">\n",
       "      <th></th>\n",
       "      <th>MovieID</th>\n",
       "      <th>Title</th>\n",
       "      <th>Category</th>\n",
       "    </tr>\n",
       "  </thead>\n",
       "  <tbody>\n",
       "  </tbody>\n",
       "</table>\n",
       "</div>"
      ],
      "text/plain": [
       "Empty DataFrame\n",
       "Columns: [MovieID, Title, Category]\n",
       "Index: []"
      ]
     },
     "execution_count": 17,
     "metadata": {},
     "output_type": "execute_result"
    }
   ],
   "source": [
    "bool_series1 = pd.isnull(df[\"MovieID\"])\n",
    "df[bool_series1]"
   ]
  },
  {
   "cell_type": "code",
   "execution_count": 18,
   "id": "858fc9b3",
   "metadata": {},
   "outputs": [
    {
     "data": {
      "text/html": [
       "<div>\n",
       "<style scoped>\n",
       "    .dataframe tbody tr th:only-of-type {\n",
       "        vertical-align: middle;\n",
       "    }\n",
       "\n",
       "    .dataframe tbody tr th {\n",
       "        vertical-align: top;\n",
       "    }\n",
       "\n",
       "    .dataframe thead th {\n",
       "        text-align: right;\n",
       "    }\n",
       "</style>\n",
       "<table border=\"1\" class=\"dataframe\">\n",
       "  <thead>\n",
       "    <tr style=\"text-align: right;\">\n",
       "      <th></th>\n",
       "      <th>MovieID</th>\n",
       "      <th>Title</th>\n",
       "      <th>Category</th>\n",
       "    </tr>\n",
       "  </thead>\n",
       "  <tbody>\n",
       "  </tbody>\n",
       "</table>\n",
       "</div>"
      ],
      "text/plain": [
       "Empty DataFrame\n",
       "Columns: [MovieID, Title, Category]\n",
       "Index: []"
      ]
     },
     "execution_count": 18,
     "metadata": {},
     "output_type": "execute_result"
    }
   ],
   "source": [
    "bool_series1 = pd.isnull(df[\"Title\"])\n",
    "df[bool_series1]"
   ]
  },
  {
   "cell_type": "code",
   "execution_count": 19,
   "id": "1fc8d1b0",
   "metadata": {},
   "outputs": [
    {
     "data": {
      "text/html": [
       "<div>\n",
       "<style scoped>\n",
       "    .dataframe tbody tr th:only-of-type {\n",
       "        vertical-align: middle;\n",
       "    }\n",
       "\n",
       "    .dataframe tbody tr th {\n",
       "        vertical-align: top;\n",
       "    }\n",
       "\n",
       "    .dataframe thead th {\n",
       "        text-align: right;\n",
       "    }\n",
       "</style>\n",
       "<table border=\"1\" class=\"dataframe\">\n",
       "  <thead>\n",
       "    <tr style=\"text-align: right;\">\n",
       "      <th></th>\n",
       "      <th>MovieID</th>\n",
       "      <th>Title</th>\n",
       "      <th>Category</th>\n",
       "    </tr>\n",
       "  </thead>\n",
       "  <tbody>\n",
       "  </tbody>\n",
       "</table>\n",
       "</div>"
      ],
      "text/plain": [
       "Empty DataFrame\n",
       "Columns: [MovieID, Title, Category]\n",
       "Index: []"
      ]
     },
     "execution_count": 19,
     "metadata": {},
     "output_type": "execute_result"
    }
   ],
   "source": [
    "bool_series1 = pd.isnull(df[\"Category\"])\n",
    "df[bool_series1]"
   ]
  },
  {
   "cell_type": "markdown",
   "id": "94728424",
   "metadata": {},
   "source": [
    "> USER CSV"
   ]
  },
  {
   "cell_type": "markdown",
   "id": "551774ac",
   "metadata": {},
   "source": [
    "## Dataframe"
   ]
  },
  {
   "cell_type": "markdown",
   "id": "1ef99dbe",
   "metadata": {},
   "source": [
    "df1 = pd.read_csv(\"Users.csv\")"
   ]
  },
  {
   "cell_type": "code",
   "execution_count": 20,
   "id": "97b6fc98",
   "metadata": {},
   "outputs": [
    {
     "ename": "NameError",
     "evalue": "name 'df1' is not defined",
     "output_type": "error",
     "traceback": [
      "\u001b[1;31m---------------------------------------------------------------------------\u001b[0m",
      "\u001b[1;31mNameError\u001b[0m                                 Traceback (most recent call last)",
      "Input \u001b[1;32mIn [20]\u001b[0m, in \u001b[0;36m<cell line: 1>\u001b[1;34m()\u001b[0m\n\u001b[1;32m----> 1\u001b[0m \u001b[43mdf1\u001b[49m\n",
      "\u001b[1;31mNameError\u001b[0m: name 'df1' is not defined"
     ]
    }
   ],
   "source": [
    "df1"
   ]
  },
  {
   "cell_type": "markdown",
   "id": "eec5c10d",
   "metadata": {},
   "source": [
    "## Describing DataFrame"
   ]
  },
  {
   "cell_type": "code",
   "execution_count": null,
   "id": "1dc0bc50",
   "metadata": {},
   "outputs": [],
   "source": [
    "df1.describe()"
   ]
  },
  {
   "cell_type": "markdown",
   "id": "39141a7b",
   "metadata": {},
   "source": [
    "## Shape of the Dataset"
   ]
  },
  {
   "cell_type": "code",
   "execution_count": null,
   "id": "d5bb149e",
   "metadata": {},
   "outputs": [],
   "source": [
    "df1.shape"
   ]
  },
  {
   "cell_type": "code",
   "execution_count": null,
   "id": "0b877978",
   "metadata": {},
   "outputs": [],
   "source": [
    "df1.info()"
   ]
  },
  {
   "cell_type": "markdown",
   "id": "ecf71dd1",
   "metadata": {},
   "source": [
    "## checking duplicate "
   ]
  },
  {
   "cell_type": "code",
   "execution_count": null,
   "id": "a8b3162d",
   "metadata": {
    "scrolled": true
   },
   "outputs": [],
   "source": [
    "df1.duplicated()"
   ]
  },
  {
   "cell_type": "markdown",
   "id": "d6ce8ba2",
   "metadata": {},
   "source": [
    "## checking Null values"
   ]
  },
  {
   "cell_type": "code",
   "execution_count": null,
   "id": "8646e7aa",
   "metadata": {},
   "outputs": [],
   "source": [
    "df1.isnull()"
   ]
  },
  {
   "cell_type": "code",
   "execution_count": null,
   "id": "5cafe558",
   "metadata": {},
   "outputs": [],
   "source": [
    "df1.isnull().sum()"
   ]
  },
  {
   "cell_type": "code",
   "execution_count": null,
   "id": "e393f49f",
   "metadata": {},
   "outputs": [],
   "source": [
    "sns.heatmap(df1.isnull(), yticklabels=False)"
   ]
  },
  {
   "cell_type": "markdown",
   "id": "da74be76",
   "metadata": {},
   "source": [
    "> Gives a bar chart of the missing values"
   ]
  },
  {
   "cell_type": "code",
   "execution_count": null,
   "id": "d1e9bb7f",
   "metadata": {
    "scrolled": true
   },
   "outputs": [],
   "source": [
    "msno.bar(df1)"
   ]
  },
  {
   "cell_type": "code",
   "execution_count": null,
   "id": "7d672230",
   "metadata": {},
   "outputs": [],
   "source": [
    "bool_series1 = pd.isnull(df1[\"UserID\"])\n",
    "df1[bool_series1]"
   ]
  },
  {
   "cell_type": "code",
   "execution_count": null,
   "id": "cc4bf1ac",
   "metadata": {},
   "outputs": [],
   "source": [
    "bool_series1 = pd.isnull(df1[\"Gender\"])\n",
    "df1[bool_series1]"
   ]
  },
  {
   "cell_type": "code",
   "execution_count": null,
   "id": "6e88c233",
   "metadata": {},
   "outputs": [],
   "source": [
    "bool_series1 = pd.isnull(df1[\"Age\"])\n",
    "df1[bool_series1]"
   ]
  },
  {
   "cell_type": "code",
   "execution_count": null,
   "id": "2c0eeb84",
   "metadata": {},
   "outputs": [],
   "source": [
    "bool_series1 = pd.isnull(df1[\"Occupation\"])\n",
    "df1[bool_series1]"
   ]
  },
  {
   "cell_type": "markdown",
   "id": "9b35b249",
   "metadata": {},
   "source": [
    ">>Putting up in 'user file' age according to numbers in project file like (1-> Under 18) ,(18-> 18-24) ,(25-> 25-34) ....\n"
   ]
  },
  {
   "cell_type": "code",
   "execution_count": null,
   "id": "244ac6b1",
   "metadata": {},
   "outputs": [],
   "source": [
    "\n",
    "Age_conditions = [\n",
    "    (df1['Age'] == 1),\n",
    "    (df1['Age'] == 18),\n",
    "    (df1['Age'] == 25),\n",
    "    (df1['Age'] == 35),\n",
    "    (df1['Age'] == 45),\n",
    "    (df1['Age'] == 50),\n",
    "    (df1['Age'] == 56),\n",
    "]\n",
    "\n",
    "Age_values = ['Under 18','18-24','25-34','35-44','45-49','50 - 55','Above 56']\n",
    "\n",
    "df1['Age'] = np.select(Age_conditions,Age_values)\n",
    "\n",
    "print(df1)\n"
   ]
  },
  {
   "cell_type": "markdown",
   "id": "63735e78",
   "metadata": {},
   "source": [
    "> Putting up in 'user file' ococcupation according to numbers in project file like 0->Not specified or other ,1->Academician ,2-> Artist ....\n"
   ]
  },
  {
   "cell_type": "code",
   "execution_count": null,
   "id": "38ece26c",
   "metadata": {},
   "outputs": [],
   "source": [
    "\n",
    "conditions = [\n",
    "    (df1['Occupation'] == 0),\n",
    "    (df1['Occupation'] == 1),\n",
    "    (df1['Occupation'] == 2),\n",
    "    (df1['Occupation'] == 3),\n",
    "    (df1['Occupation'] == 4),\n",
    "    (df1['Occupation'] == 5),\n",
    "    (df1['Occupation'] == 6),\n",
    "    (df1['Occupation'] == 7),\n",
    "    (df1['Occupation'] == 8),\n",
    "    (df1['Occupation'] == 9),\n",
    "    (df1['Occupation'] == 10),\n",
    "    (df1['Occupation'] == 11),\n",
    "    (df1['Occupation'] == 12),\n",
    "    (df1['Occupation'] == 13),\n",
    "    (df1['Occupation'] == 14),\n",
    "    (df1['Occupation'] == 15),\n",
    "    (df1['Occupation'] == 16),\n",
    "    (df1['Occupation'] == 17),\n",
    "    (df1['Occupation'] == 18),\n",
    "    (df1['Occupation'] == 19),\n",
    "    (df1['Occupation'] == 20),\n",
    "]\n",
    "\n",
    "values = ['Not specified or other','Academician','Artist','Admin/Office  work',\n",
    "         'Grad/Higher Ed student','Customer Service/Consultant','Doctor and Medical services',\n",
    "          'Executive and Managerial','Farmer and Agriculture','Homemaker','K-12 Student',\n",
    "          'Lawyer','Programmer','Retired','Sales and Marketing','Scientist','Self-Employed',\n",
    "          'Engineer and Technician','Tradesman/Craftsman','Unemployed','Writer']\n",
    "\n",
    "df1['Occupation'] = np.select(conditions,values)\n",
    "\n",
    "print(df1)"
   ]
  },
  {
   "cell_type": "markdown",
   "id": "e4dd6d9d",
   "metadata": {},
   "source": [
    "> RATINGS CSV"
   ]
  },
  {
   "cell_type": "markdown",
   "id": "ad2f0728",
   "metadata": {},
   "source": [
    "## Data Frame"
   ]
  },
  {
   "cell_type": "code",
   "execution_count": null,
   "id": "5e0094b6",
   "metadata": {},
   "outputs": [],
   "source": [
    "df2 = pd.read_csv(\"Ratings.csv\")"
   ]
  },
  {
   "cell_type": "code",
   "execution_count": null,
   "id": "4209afdd",
   "metadata": {},
   "outputs": [],
   "source": [
    "df2"
   ]
  },
  {
   "cell_type": "code",
   "execution_count": null,
   "id": "66374923",
   "metadata": {},
   "outputs": [],
   "source": [
    "df2.describe()"
   ]
  },
  {
   "cell_type": "markdown",
   "id": "04927d91",
   "metadata": {},
   "source": [
    "## Shape of the Dataset"
   ]
  },
  {
   "cell_type": "code",
   "execution_count": null,
   "id": "f10b3e57",
   "metadata": {},
   "outputs": [],
   "source": [
    "df2.shape"
   ]
  },
  {
   "cell_type": "code",
   "execution_count": null,
   "id": "2a0ae59e",
   "metadata": {},
   "outputs": [],
   "source": [
    "df2.info()"
   ]
  },
  {
   "cell_type": "markdown",
   "id": "92a473a9",
   "metadata": {},
   "source": [
    "## checking duplicate "
   ]
  },
  {
   "cell_type": "code",
   "execution_count": null,
   "id": "5ac85061",
   "metadata": {
    "scrolled": true
   },
   "outputs": [],
   "source": [
    "df2.duplicated()"
   ]
  },
  {
   "cell_type": "markdown",
   "id": "f4450348",
   "metadata": {},
   "source": [
    "## checking Null values"
   ]
  },
  {
   "cell_type": "code",
   "execution_count": null,
   "id": "140def74",
   "metadata": {},
   "outputs": [],
   "source": [
    "df2.isnull()"
   ]
  },
  {
   "cell_type": "code",
   "execution_count": null,
   "id": "bdf2faa2",
   "metadata": {},
   "outputs": [],
   "source": [
    "df2.isnull().sum()"
   ]
  },
  {
   "cell_type": "code",
   "execution_count": null,
   "id": "b2b45530",
   "metadata": {},
   "outputs": [],
   "source": [
    "sns.heatmap(df2.isnull(), yticklabels=False)"
   ]
  },
  {
   "cell_type": "markdown",
   "id": "93a7b012",
   "metadata": {},
   "source": [
    ">  Gives a bar chart of the missing values"
   ]
  },
  {
   "cell_type": "code",
   "execution_count": null,
   "id": "6658e105",
   "metadata": {
    "scrolled": true
   },
   "outputs": [],
   "source": [
    "\n",
    "msno.bar(df2)"
   ]
  },
  {
   "cell_type": "markdown",
   "id": "e5202ebd",
   "metadata": {},
   "source": [
    "## Filter Data"
   ]
  },
  {
   "cell_type": "code",
   "execution_count": null,
   "id": "d1f9cac8",
   "metadata": {},
   "outputs": [],
   "source": [
    "bool_series1 = pd.isnull(df2[\"UserID\"])\n",
    "df2[bool_series1]"
   ]
  },
  {
   "cell_type": "code",
   "execution_count": null,
   "id": "b8c0a8cc",
   "metadata": {},
   "outputs": [],
   "source": [
    "bool_series2 = pd.isnull(df2[\"MovieID\"])\n",
    "df2[bool_series2]"
   ]
  },
  {
   "cell_type": "code",
   "execution_count": null,
   "id": "488646e5",
   "metadata": {},
   "outputs": [],
   "source": [
    "bool_series3 = pd.isnull(df2[\"Rating\"])\n",
    "df2[bool_series3]"
   ]
  },
  {
   "cell_type": "code",
   "execution_count": null,
   "id": "0ed72145",
   "metadata": {},
   "outputs": [],
   "source": []
  },
  {
   "cell_type": "markdown",
   "id": "3f330272",
   "metadata": {},
   "source": [
    "# ------------------------------------------- Q2 )-------------------------------------"
   ]
  },
  {
   "cell_type": "markdown",
   "id": "b245b9b3",
   "metadata": {},
   "source": [
    "> i) Total number of movies released in each year. Display year and the count."
   ]
  },
  {
   "cell_type": "markdown",
   "id": "a395b630",
   "metadata": {},
   "source": [
    "> Creating a new column name Year and putting up the year's of movive released "
   ]
  },
  {
   "cell_type": "code",
   "execution_count": null,
   "id": "35834697",
   "metadata": {},
   "outputs": [],
   "source": [
    "\n",
    "df['Year']=df[\"Title\"].str[-5:-1]\n",
    "df\n"
   ]
  },
  {
   "cell_type": "code",
   "execution_count": null,
   "id": "70280bf1",
   "metadata": {},
   "outputs": [],
   "source": [
    "\n",
    "data=df.groupby(\"Year\").count()[\"MovieID\"]\n",
    "print(data.tail())\n",
    "\n",
    "df.groupby(\"Year\").count()[\"MovieID\"].plot()\n",
    "\n",
    "# sns.set(rc={'figure.figsize':(10,5)})\n",
    "plt.title(\"Year and Number Of Movies\")\n",
    "plt.xlabel('Release year')\n",
    "plt.ylabel('Number Of Movies')\n",
    "sns.set_style(\"whitegrid\")"
   ]
  },
  {
   "cell_type": "code",
   "execution_count": null,
   "id": "64350f5f",
   "metadata": {},
   "outputs": [],
   "source": [
    "df['Year'].dtypes"
   ]
  },
  {
   "cell_type": "code",
   "execution_count": null,
   "id": "396d63f3",
   "metadata": {},
   "outputs": [],
   "source": [
    "df = df.astype({'Year':'int'})"
   ]
  },
  {
   "cell_type": "code",
   "execution_count": null,
   "id": "8fa66fd0",
   "metadata": {},
   "outputs": [],
   "source": [
    "df['Year'].dtypes"
   ]
  },
  {
   "cell_type": "code",
   "execution_count": null,
   "id": "7294bac3",
   "metadata": {},
   "outputs": [],
   "source": []
  },
  {
   "cell_type": "markdown",
   "id": "4eb6d2af",
   "metadata": {},
   "source": [
    "> ii) Find the movie category having highest ratings in each year. The output should comprise of\n",
    "\n",
    "\n",
    "> YearofRelease, Category, CountOfMovies having highest rating."
   ]
  },
  {
   "cell_type": "code",
   "execution_count": null,
   "id": "39e80b70",
   "metadata": {},
   "outputs": [],
   "source": []
  },
  {
   "cell_type": "markdown",
   "id": "e97a19e4",
   "metadata": {},
   "source": [
    "> iii) Find and display movie category and age group \n",
    " wise likings. \n",
    " \n",
    " This may be based on the highest number of users from each age group rated for that movie category."
   ]
  },
  {
   "cell_type": "code",
   "execution_count": null,
   "id": "967d0b88",
   "metadata": {},
   "outputs": [],
   "source": [
    "All_merged_df = pd.merge(df, df2, on='MovieID')\n",
    "All_merged_df = pd.merge(All_merged_df, df1, on='UserID')\n",
    "All_merged_df"
   ]
  },
  {
   "cell_type": "code",
   "execution_count": null,
   "id": "00fe761e",
   "metadata": {},
   "outputs": [],
   "source": [
    "\n",
    "def find_minmax(x):\n",
    "    min_index = All_merged_df[x].idxmin()\n",
    "    high_index = All_merged_df[x].idxmax()\n",
    "    high = pd.DataFrame(All_merged_df.loc[high_index,:])\n",
    "    low = pd.DataFrame(All_merged_df.loc[min_index,:])\n",
    "\n",
    "    print(\"Movie Which Has Highest \"+ x + \" : \",All_merged_df['Category'][high_index])\n",
    "    print(\"Movie Which Has Lowest \"+ x + \"  : \",All_merged_df['Category'][min_index])\n"
   ]
  },
  {
   "cell_type": "code",
   "execution_count": null,
   "id": "d794674a",
   "metadata": {},
   "outputs": [],
   "source": [
    "find_minmax('Rating')"
   ]
  },
  {
   "cell_type": "code",
   "execution_count": null,
   "id": "8a3343d2",
   "metadata": {},
   "outputs": [],
   "source": [
    "def find_minmax(x):\n",
    "    min_index = All_merged_df[x].idxmin()\n",
    "    high_index = All_merged_df[x].idxmax()\n",
    "    high = pd.DataFrame(All_merged_df.loc[high_index,:])\n",
    "    low = pd.DataFrame(All_merged_df.loc[min_index,:])\n",
    "\n",
    "    print(\"Age group to watch Highest Movies \" + \": \",All_merged_df['Age'][high_index])\n",
    "    print(\"Age group to watch Lowest Movies  \"+ \": \",All_merged_df['Age'][min_index])\n"
   ]
  },
  {
   "cell_type": "code",
   "execution_count": null,
   "id": "ef114c0d",
   "metadata": {},
   "outputs": [],
   "source": [
    "find_minmax('Rating')"
   ]
  },
  {
   "cell_type": "markdown",
   "id": "c3dc8393",
   "metadata": {},
   "source": [
    "> iv) Use Cluster models to segregate movie category and age group wise likings. "
   ]
  },
  {
   "cell_type": "code",
   "execution_count": null,
   "id": "38e23781",
   "metadata": {},
   "outputs": [],
   "source": [
    "Seg_df = pd.read_csv('Movies.csv',encoding_errors='ignore')"
   ]
  },
  {
   "cell_type": "code",
   "execution_count": null,
   "id": "8b22c830",
   "metadata": {},
   "outputs": [],
   "source": [
    "Seg_df"
   ]
  },
  {
   "cell_type": "code",
   "execution_count": null,
   "id": "54d09dbc",
   "metadata": {},
   "outputs": [],
   "source": [
    "test_ = Seg_df[\"Category\"].str.split('|',n=4,expand=True)"
   ]
  },
  {
   "cell_type": "code",
   "execution_count": null,
   "id": "a304c294",
   "metadata": {},
   "outputs": [],
   "source": [
    "test_"
   ]
  },
  {
   "cell_type": "code",
   "execution_count": null,
   "id": "f53efc04",
   "metadata": {},
   "outputs": [],
   "source": [
    "test_.rename(columns = {0:'Category1',1:'Category2',2:'Category3',3:'Category4',4:'Category5'})"
   ]
  },
  {
   "cell_type": "code",
   "execution_count": null,
   "id": "bc43ee1f",
   "metadata": {},
   "outputs": [],
   "source": [
    "Seg_df[['Category1','Category2','Category3','Category4','Category5']] = Seg_df[\"Category\"].str.split('|',n=4,expand=True)\n",
    "Seg_df"
   ]
  },
  {
   "cell_type": "code",
   "execution_count": null,
   "id": "76abcea2",
   "metadata": {},
   "outputs": [],
   "source": [
    "Seg_df.drop('Category', axis = 1)"
   ]
  },
  {
   "cell_type": "markdown",
   "id": "7ea8cbad",
   "metadata": {},
   "source": [
    "> age group wise likings"
   ]
  },
  {
   "cell_type": "markdown",
   "id": "bdab57b3",
   "metadata": {},
   "source": [
    "> All_merged_df.plot.scatter(x = 'Category', y = 'Occupation', s = 100);"
   ]
  },
  {
   "cell_type": "code",
   "execution_count": null,
   "id": "863c7e62",
   "metadata": {},
   "outputs": [],
   "source": [
    "\n",
    "ax2 = All_merged_df.plot.scatter(title=\"Category V/S Age\",x='Category',y='Age',c='Green')\n",
    "plt.xticks(rotation = 90)"
   ]
  },
  {
   "cell_type": "markdown",
   "id": "a4a5219b",
   "metadata": {},
   "source": [
    ">  v) Display year wise count of movies released."
   ]
  },
  {
   "cell_type": "code",
   "execution_count": null,
   "id": "2cc79894",
   "metadata": {},
   "outputs": [],
   "source": [
    "data=df.groupby(\"Year\").count()[\"MovieID\"]\n",
    "print(data.head(100))\n"
   ]
  },
  {
   "cell_type": "code",
   "execution_count": null,
   "id": "d0de6947",
   "metadata": {},
   "outputs": [],
   "source": []
  },
  {
   "cell_type": "markdown",
   "id": "a6014ba0",
   "metadata": {},
   "source": [
    "> vi) Display year wise, category wise count of movies released."
   ]
  },
  {
   "cell_type": "code",
   "execution_count": null,
   "id": "880c7fdf",
   "metadata": {},
   "outputs": [],
   "source": [
    "data1=df.groupby(\"Category\").count()[\"MovieID\"]\n",
    "data1.head()"
   ]
  },
  {
   "cell_type": "code",
   "execution_count": null,
   "id": "ceb9f482",
   "metadata": {},
   "outputs": [],
   "source": [
    "data2=df.groupby(\"Year\").count()[\"MovieID\"]\n",
    "data2.head()"
   ]
  },
  {
   "cell_type": "markdown",
   "id": "a6f5c821",
   "metadata": {},
   "source": [
    "## Merge"
   ]
  },
  {
   "cell_type": "code",
   "execution_count": null,
   "id": "5ef1be4c",
   "metadata": {},
   "outputs": [],
   "source": [
    "Q = pd.DataFrame(df, columns=['Year','Category'])"
   ]
  },
  {
   "cell_type": "code",
   "execution_count": null,
   "id": "cfc118d2",
   "metadata": {},
   "outputs": [],
   "source": [
    "Q"
   ]
  },
  {
   "cell_type": "code",
   "execution_count": null,
   "id": "a0400a0d",
   "metadata": {},
   "outputs": [],
   "source": [
    "Out=pd.merge(data2,Q, on='Year')"
   ]
  },
  {
   "cell_type": "code",
   "execution_count": null,
   "id": "48525b59",
   "metadata": {},
   "outputs": [],
   "source": [
    "Out"
   ]
  },
  {
   "cell_type": "code",
   "execution_count": null,
   "id": "f86c4b36",
   "metadata": {},
   "outputs": [],
   "source": [
    "Out2=pd.merge(data1,Q, on='Category')\n",
    "Out2"
   ]
  },
  {
   "cell_type": "code",
   "execution_count": null,
   "id": "b363b318",
   "metadata": {},
   "outputs": [],
   "source": [
    "Out3=pd.merge(Out,Out2, on='Year')"
   ]
  },
  {
   "cell_type": "code",
   "execution_count": null,
   "id": "a0026f41",
   "metadata": {},
   "outputs": [],
   "source": [
    "Out3.rename(columns = {'MovieID_x':'Movies Per Year'}, inplace = True)\n",
    "Out3.rename(columns ={'MovieID_y':'Movies Per Category'}, inplace = True)\n",
    "Out3.rename(columns ={'Category_x':'Category'}, inplace = True)\n",
    "Out3=Out3.drop(['Category_y'], axis=1)"
   ]
  },
  {
   "cell_type": "code",
   "execution_count": null,
   "id": "9c840b20",
   "metadata": {},
   "outputs": [],
   "source": [
    "Out3"
   ]
  },
  {
   "cell_type": "code",
   "execution_count": null,
   "id": "0693e07c",
   "metadata": {},
   "outputs": [],
   "source": []
  },
  {
   "cell_type": "markdown",
   "id": "4625dd33",
   "metadata": {},
   "source": [
    ">  vii) Use Clustering methods to segregate movie category and occupation of users. Display details. With the data, \n",
    " train the model and predict that when an occupation is entered, the model can predict the movie likings to that\n",
    " category of occupation."
   ]
  },
  {
   "cell_type": "code",
   "execution_count": null,
   "id": "ee67cfeb",
   "metadata": {},
   "outputs": [],
   "source": [
    "All_merged_df[\"Category\"]"
   ]
  },
  {
   "cell_type": "code",
   "execution_count": null,
   "id": "d936ac81",
   "metadata": {},
   "outputs": [],
   "source": [
    "All_merged_df[\"Occupation\"]"
   ]
  },
  {
   "cell_type": "markdown",
   "id": "81ae48f6",
   "metadata": {},
   "source": [
    "> All_merged_df.plot.scatter(x = 'Category', y = 'Occupation', s = 100);"
   ]
  },
  {
   "cell_type": "code",
   "execution_count": null,
   "id": "7858536b",
   "metadata": {},
   "outputs": [],
   "source": [
    "\n",
    "ax2 = All_merged_df.plot.scatter(title=\"Occupation V/S Category\",x='Category',y='Occupation',c='Green')\n",
    "plt.xticks(rotation = 90)"
   ]
  },
  {
   "cell_type": "markdown",
   "id": "b80a50aa",
   "metadata": {},
   "source": [
    "> Initialising"
   ]
  },
  {
   "cell_type": "code",
   "execution_count": null,
   "id": "a2f2c364",
   "metadata": {},
   "outputs": [],
   "source": [
    "\n",
    "\n",
    "test_df = pd.DataFrame({\n",
    "    'x':All_merged_df[\"Category\"],\n",
    "    'y':All_merged_df[\"Occupation\"]\n",
    "})\n",
    "\n",
    "np.random.seed(200)\n",
    "k = 3\n",
    "# centroids[i] = [x,y]\n",
    "centroids = {\n",
    "    i+1:[np.random.randint(0,80),np.random.randint(0,80)]\n",
    "    for i in range(k)\n",
    "}\n",
    "\n",
    "fig = plt.figure(figsize=(25,15))\n",
    "plt.scatter(test_df['x'],test_df['y'], color='k')\n",
    "colmap = {1:'r',2:'g',3:'b'}\n",
    "for i in centroids. keys():\n",
    "    plt.scatter(*centroids[i],color = colmap[i])\n",
    "plt.xlim(0, 80)\n",
    "plt.ylim(0, 80)\n",
    "plt.show()"
   ]
  },
  {
   "cell_type": "code",
   "execution_count": null,
   "id": "e306125e",
   "metadata": {},
   "outputs": [],
   "source": []
  },
  {
   "cell_type": "markdown",
   "id": "01faba5b",
   "metadata": {},
   "source": [
    "> viii) Now include, the age group to the above model in addition to occupation of users to refine the predictive model."
   ]
  },
  {
   "cell_type": "code",
   "execution_count": null,
   "id": "8f1cb925",
   "metadata": {},
   "outputs": [],
   "source": [
    "md_small = All_merged_df.iloc[:, [1,3,5,6,7,8]]\n",
    "md_small.head()\n",
    "md_small.dtypes\n",
    "md_small['Occupation'] = md_small['Occupation'].str[:5]\n",
    "pd.to_numeric(md_small['Occupation'])\n",
    "md_small[md_small.columns[1:]].corr()['Rating'][:]\n",
    "master_features = pd.merge(md_small, one_hot_genres, left_index=True, right_index=True)\n",
    "master_features.head()\n",
    "X_feature = md_small.drop(['Occupation'], axis=1)\n",
    "X_feature.head()\n",
    "X_feature_small = X_feature[X_feature['MovieID'] < 50] \n",
    "X_feature_small_trimmed = X_feature_small.drop(['MovieID','Rating'], axis=1)\n",
    "X_feature_small_trimmed.shape\n",
    "X_feature_small_trimmed.head()\n",
    "Y_target = master_features['Rating'][master_features['MovieID']< 50]\n",
    "Y_target.shape\n",
    "from sklearn.model_selection import train_test_split\n",
    "x_train, x_test, y_train, y_test = train_test_split(X_feature_small_trimmed,Y_target,random_state=1)\n",
    "from sklearn.linear_model import LogisticRegression\n",
    "#logreg = LogisticRegression(solver='lbfgs',class_weight='balanced', max_iter=100000)\n",
    "logreg = LogisticRegression(max_iter=100000)\n",
    "logreg.fit(x_train,y_train)\n",
    "y_pred = logreg.predict(x_test)\n",
    "from sklearn import metrics\n",
    "metrics.accuracy_score(y_test,y_pred)\n",
    "\n",
    "# print the first 30 true and predicted responses\n",
    "print ('actual:    ', y_test.values[0:30])\n",
    "print ('predicted: ', y_pred[0:30])\n"
   ]
  },
  {
   "cell_type": "code",
   "execution_count": null,
   "id": "deb5e997",
   "metadata": {},
   "outputs": [],
   "source": []
  },
  {
   "cell_type": "markdown",
   "id": "1672d899",
   "metadata": {},
   "source": [
    "# User Interface Q3)"
   ]
  },
  {
   "cell_type": "markdown",
   "id": "47e2ab5d",
   "metadata": {},
   "source": [
    ">>  Develop a simple User Interface including all the queries and processes above to make it a functional system."
   ]
  },
  {
   "cell_type": "code",
   "execution_count": 28,
   "id": "73d8135e",
   "metadata": {},
   "outputs": [],
   "source": [
    " #from pandasgui import show"
   ]
  },
  {
   "cell_type": "code",
   "execution_count": 29,
   "id": "d3e5f365",
   "metadata": {},
   "outputs": [],
   "source": [
    "gui = show(All_merged_df)"
   ]
  },
  {
   "cell_type": "code",
   "execution_count": null,
   "id": "63e89c5a",
   "metadata": {},
   "outputs": [],
   "source": []
  }
 ],
 "metadata": {
  "kernelspec": {
   "display_name": "Python 3 (ipykernel)",
   "language": "python",
   "name": "python3"
  },
  "language_info": {
   "codemirror_mode": {
    "name": "ipython",
    "version": 3
   },
   "file_extension": ".py",
   "mimetype": "text/x-python",
   "name": "python",
   "nbconvert_exporter": "python",
   "pygments_lexer": "ipython3",
   "version": "3.9.12"
  }
 },
 "nbformat": 4,
 "nbformat_minor": 5
}
